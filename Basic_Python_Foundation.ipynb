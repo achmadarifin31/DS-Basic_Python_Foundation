{
  "nbformat": 4,
  "nbformat_minor": 0,
  "metadata": {
    "colab": {
      "provenance": [],
      "gpuType": "T4",
      "authorship_tag": "ABX9TyOJJsiw0im5cC++CwRXA6HZ",
      "include_colab_link": true
    },
    "kernelspec": {
      "name": "python3",
      "display_name": "Python 3"
    },
    "language_info": {
      "name": "python"
    },
    "accelerator": "GPU"
  },
  "cells": [
    {
      "cell_type": "markdown",
      "metadata": {
        "id": "view-in-github",
        "colab_type": "text"
      },
      "source": [
        "<a href=\"https://colab.research.google.com/github/achmadarifin31/DS-Basic_Python_Foundation/blob/main/Basic_Python_Foundation.ipynb\" target=\"_parent\"><img src=\"https://colab.research.google.com/assets/colab-badge.svg\" alt=\"Open In Colab\"/></a>"
      ]
    },
    {
      "cell_type": "markdown",
      "source": [
        "## **VARIABEL**"
      ],
      "metadata": {
        "id": "JVKnMEbvFmq5"
      }
    },
    {
      "cell_type": "markdown",
      "source": [
        "Variabel berfungsi untuk menampung value. Mulai dari string, angka, dan lain-lain. Variabel ini sangat penting untuk menjadi inisial ketika kita sudah mempunyai banyak program. Contoh dari variabel antara lain:"
      ],
      "metadata": {
        "id": "n2kyXvw0HN9h"
      }
    },
    {
      "cell_type": "code",
      "execution_count": 2,
      "metadata": {
        "colab": {
          "base_uri": "https://localhost:8080/"
        },
        "id": "UvW5lcpQEIjf",
        "outputId": "46d8b737-58ed-45e5-dfcd-a6c45881ca08"
      },
      "outputs": [
        {
          "output_type": "stream",
          "name": "stdout",
          "text": [
            "100\n"
          ]
        }
      ],
      "source": [
        "x = 100\n",
        "print (x)"
      ]
    },
    {
      "cell_type": "code",
      "source": [
        "x_petra = \"startup campus\"\n",
        "print (x_petra)"
      ],
      "metadata": {
        "colab": {
          "base_uri": "https://localhost:8080/"
        },
        "id": "VtMvqqV1GGPp",
        "outputId": "7c156ae1-3a5b-433d-baff-50f20959feb6"
      },
      "execution_count": 3,
      "outputs": [
        {
          "output_type": "stream",
          "name": "stdout",
          "text": [
            "startup campus\n"
          ]
        }
      ]
    },
    {
      "cell_type": "code",
      "source": [
        "Data_Input = 100\n",
        "DataInput = 100\n",
        "datainput = 100"
      ],
      "metadata": {
        "id": "8C_uT2x5Gi5u"
      },
      "execution_count": 4,
      "outputs": []
    },
    {
      "cell_type": "markdown",
      "source": [
        "## **Data Type**"
      ],
      "metadata": {
        "id": "qwtqQZSiIPVq"
      }
    },
    {
      "cell_type": "markdown",
      "source": [
        "Terdapat 5 data type pada python yaitu Numeric, Dictionary, Boolean, Set, dan Sequence Type.\n",
        "\n",
        "\n",
        "*   Numeric berdefinisi suatu angka, decimal, ataupun yang berbau numeric. Terdapat Interger, Complex Number, Float.\n",
        "*   Dictionary adalah suatu tipe python yang digunakan dalam proses developing application. Fungsinya untuk mapping antara satu value dengan yang lain.\n",
        "*   Boolean adalah suatu true or false.\n",
        "*   Set adalah suatu himpunan dalam matematika namun agak berbeda dengan dictionary.\n",
        "*   Sequence Type adalah suatu tipe yang beroder, terdapat Strings, List, dan Tuple.\n",
        "\n",
        "\n",
        "\n"
      ],
      "metadata": {
        "id": "SQGZxygHIV_n"
      }
    },
    {
      "cell_type": "code",
      "source": [
        "#Interger Type Data Example\n",
        "x = 200\n",
        "print(type(x))"
      ],
      "metadata": {
        "colab": {
          "base_uri": "https://localhost:8080/"
        },
        "id": "-fTc0a9mHCzY",
        "outputId": "79ec5fb9-329c-4b89-ee65-76e15abefdbf"
      },
      "execution_count": 4,
      "outputs": [
        {
          "output_type": "stream",
          "name": "stdout",
          "text": [
            "<class 'int'>\n"
          ]
        }
      ]
    },
    {
      "cell_type": "code",
      "source": [
        "#Float Type Data Example\n",
        "y = 2.50\n",
        "print(type(y))"
      ],
      "metadata": {
        "colab": {
          "base_uri": "https://localhost:8080/"
        },
        "id": "t78dhYh6LBru",
        "outputId": "6ebe058f-e6f1-48eb-c42f-c1ce333befdc"
      },
      "execution_count": 5,
      "outputs": [
        {
          "output_type": "stream",
          "name": "stdout",
          "text": [
            "<class 'float'>\n"
          ]
        }
      ]
    },
    {
      "cell_type": "code",
      "source": [
        "#String Type Data Example\n",
        "z = \"word of the day\"\n",
        "print(type(z))"
      ],
      "metadata": {
        "colab": {
          "base_uri": "https://localhost:8080/"
        },
        "id": "ewU34FJILGjS",
        "outputId": "8f2c2c19-61c2-450a-938d-4dab67745521"
      },
      "execution_count": 6,
      "outputs": [
        {
          "output_type": "stream",
          "name": "stdout",
          "text": [
            "<class 'str'>\n"
          ]
        }
      ]
    },
    {
      "cell_type": "code",
      "source": [
        "#List Type Data Example\n",
        "lemari = ['baju', 'celana', 'buku']\n",
        "print(type(lemari))\n",
        "print(lemari[0])\n",
        "print(lemari[1])\n",
        "print(lemari[2])"
      ],
      "metadata": {
        "colab": {
          "base_uri": "https://localhost:8080/"
        },
        "id": "9AqlorDmLNIV",
        "outputId": "917fbcc6-5aa2-40ab-a929-267b9b27ba14"
      },
      "execution_count": 9,
      "outputs": [
        {
          "output_type": "stream",
          "name": "stdout",
          "text": [
            "<class 'list'>\n",
            "baju\n",
            "celana\n",
            "buku\n"
          ]
        }
      ]
    },
    {
      "cell_type": "code",
      "source": [
        "print(lemari[-1])\n",
        "print(lemari[-2])\n",
        "print(lemari[-3])"
      ],
      "metadata": {
        "colab": {
          "base_uri": "https://localhost:8080/"
        },
        "id": "sqrHyEkrMao8",
        "outputId": "5a99c8b7-0423-4c11-b305-78d532d38061"
      },
      "execution_count": 10,
      "outputs": [
        {
          "output_type": "stream",
          "name": "stdout",
          "text": [
            "buku\n",
            "celana\n",
            "baju\n"
          ]
        }
      ]
    },
    {
      "cell_type": "code",
      "source": [
        "#Add New Value in List\n",
        "lemari.append(\"handphone\")\n",
        "print(lemari)\n",
        "\n",
        "#(telah saya run 4 kali)"
      ],
      "metadata": {
        "colab": {
          "base_uri": "https://localhost:8080/"
        },
        "id": "9rLdwsfmNTcZ",
        "outputId": "d32ce35e-a9aa-4464-9dfc-eefb462619cf"
      },
      "execution_count": 14,
      "outputs": [
        {
          "output_type": "stream",
          "name": "stdout",
          "text": [
            "['baju', 'celana', 'buku', 'handphone', 'handphone', 'handphone', 'handphone']\n"
          ]
        }
      ]
    },
    {
      "cell_type": "code",
      "source": [
        "#Dictionary Type Data Example\n",
        "mapping_ibukota={\n",
        "    \"Indonesia\":\"Jakarta\",\n",
        "    \"Malaysia\":\"Kuala Lumpur\",\n",
        "    \"Jepang\":\"Tokyo\"\n",
        "}\n",
        "\n",
        "print(mapping_ibukota[\"Indonesia\"])"
      ],
      "metadata": {
        "colab": {
          "base_uri": "https://localhost:8080/"
        },
        "id": "ZjUpX3DFND_D",
        "outputId": "90157136-9692-43d4-9129-231bc5d4b4b1"
      },
      "execution_count": 15,
      "outputs": [
        {
          "output_type": "stream",
          "name": "stdout",
          "text": [
            "Jakarta\n"
          ]
        }
      ]
    },
    {
      "cell_type": "code",
      "source": [
        "#How to show keys on dictionary\n",
        "mapping_ibukota.keys()"
      ],
      "metadata": {
        "colab": {
          "base_uri": "https://localhost:8080/"
        },
        "id": "DFKEbyVyOOY-",
        "outputId": "a978b50e-cf00-4068-807a-1619420e6a7e"
      },
      "execution_count": 16,
      "outputs": [
        {
          "output_type": "execute_result",
          "data": {
            "text/plain": [
              "dict_keys(['Indonesia', 'Malaysia', 'Jepang'])"
            ]
          },
          "metadata": {},
          "execution_count": 16
        }
      ]
    },
    {
      "cell_type": "code",
      "source": [
        "#How to show values on dictionary\n",
        "mapping_ibukota.values()"
      ],
      "metadata": {
        "colab": {
          "base_uri": "https://localhost:8080/"
        },
        "outputId": "63fc8437-d102-4aa9-9575-65fc047f734e",
        "id": "sCYK-5jQOgTy"
      },
      "execution_count": 17,
      "outputs": [
        {
          "output_type": "execute_result",
          "data": {
            "text/plain": [
              "dict_values(['Jakarta', 'Kuala Lumpur', 'Tokyo'])"
            ]
          },
          "metadata": {},
          "execution_count": 17
        }
      ]
    },
    {
      "cell_type": "code",
      "source": [
        "mapping_ibukota[\"Thailand\"]=\"Bangkok\""
      ],
      "metadata": {
        "id": "IG15zWQpOln0"
      },
      "execution_count": 18,
      "outputs": []
    },
    {
      "cell_type": "code",
      "source": [
        "print (mapping_ibukota)"
      ],
      "metadata": {
        "colab": {
          "base_uri": "https://localhost:8080/"
        },
        "id": "hZTYzelIOwhu",
        "outputId": "7aff7590-764a-4dd0-ae08-512b32f565c4"
      },
      "execution_count": 19,
      "outputs": [
        {
          "output_type": "stream",
          "name": "stdout",
          "text": [
            "{'Indonesia': 'Jakarta', 'Malaysia': 'Kuala Lumpur', 'Jepang': 'Tokyo', 'Thailand': 'Bangkok'}\n"
          ]
        }
      ]
    },
    {
      "cell_type": "markdown",
      "source": [
        "### ***Quiz Time from Startup Campus***"
      ],
      "metadata": {
        "id": "N86PJZ3pPL4H"
      }
    },
    {
      "cell_type": "code",
      "source": [
        "x = [\"Startup Campus\", 1500,\"2024\", 2.5]"
      ],
      "metadata": {
        "id": "C13Ig_kcPXxY"
      },
      "execution_count": 20,
      "outputs": []
    },
    {
      "cell_type": "code",
      "source": [
        "print(type(x[-2]))"
      ],
      "metadata": {
        "colab": {
          "base_uri": "https://localhost:8080/"
        },
        "id": "Nbrqb-jXPlS2",
        "outputId": "c213fc9c-2394-4e04-9a65-f9c98c8664f1"
      },
      "execution_count": 22,
      "outputs": [
        {
          "output_type": "stream",
          "name": "stdout",
          "text": [
            "<class 'str'>\n"
          ]
        }
      ]
    },
    {
      "cell_type": "markdown",
      "source": [
        "## **Arithmetic Operators**"
      ],
      "metadata": {
        "id": "dCVfYfKwMtDE"
      }
    },
    {
      "cell_type": "markdown",
      "source": [
        "Operators in Python:\n",
        "\n",
        "\n",
        "*   (+) meaning Addition\n",
        "*   (-) meaning Subtraction\n",
        "*   (*) meaning Multiplication\n",
        "*   (/) meaning Division\n",
        "*   (%) meaning Modulus operator to get remainder in integer division\n",
        "*   (**) meaning Exponent\n",
        "*   (//) meaning Integer Division/Floor Division\n",
        "\n",
        "\n",
        "\n",
        "\n",
        "\n"
      ],
      "metadata": {
        "id": "a7koLUw9Qfsx"
      }
    },
    {
      "cell_type": "code",
      "source": [
        "A = 100.3\n",
        "B = 50\n",
        "\n",
        "print(A+B)"
      ],
      "metadata": {
        "colab": {
          "base_uri": "https://localhost:8080/"
        },
        "id": "GZBIs-YsNCGw",
        "outputId": "42ce273f-7834-4671-8610-8914bc99060e"
      },
      "execution_count": 23,
      "outputs": [
        {
          "output_type": "stream",
          "name": "stdout",
          "text": [
            "150.3\n"
          ]
        }
      ]
    },
    {
      "cell_type": "code",
      "source": [
        "C = 25\n",
        "D = 5\n",
        "\n",
        "print(C/D)"
      ],
      "metadata": {
        "colab": {
          "base_uri": "https://localhost:8080/"
        },
        "id": "dXUxSiNYR1aC",
        "outputId": "9da870d0-6f15-404b-dbc5-10f453c6da5b"
      },
      "execution_count": 24,
      "outputs": [
        {
          "output_type": "stream",
          "name": "stdout",
          "text": [
            "5.0\n"
          ]
        }
      ]
    },
    {
      "cell_type": "code",
      "source": [
        "print(C*D)"
      ],
      "metadata": {
        "colab": {
          "base_uri": "https://localhost:8080/"
        },
        "id": "HF0B2rkhR8Cn",
        "outputId": "ea5aa0d8-8983-4a64-cab7-e65cbf19a094"
      },
      "execution_count": 25,
      "outputs": [
        {
          "output_type": "stream",
          "name": "stdout",
          "text": [
            "125\n"
          ]
        }
      ]
    },
    {
      "cell_type": "code",
      "source": [
        "E = 30\n",
        "F = 4\n",
        "\n",
        "print(E%F)"
      ],
      "metadata": {
        "colab": {
          "base_uri": "https://localhost:8080/"
        },
        "id": "3u28RaMcSAx9",
        "outputId": "ddc7eb84-305a-4898-8c6b-63653905e156"
      },
      "execution_count": 26,
      "outputs": [
        {
          "output_type": "stream",
          "name": "stdout",
          "text": [
            "2\n"
          ]
        }
      ]
    },
    {
      "cell_type": "code",
      "source": [
        "print(E//F)"
      ],
      "metadata": {
        "colab": {
          "base_uri": "https://localhost:8080/"
        },
        "id": "8SJJkoEaSFyH",
        "outputId": "483a617d-c200-40a2-de2c-200a33afea79"
      },
      "execution_count": 27,
      "outputs": [
        {
          "output_type": "stream",
          "name": "stdout",
          "text": [
            "7\n"
          ]
        }
      ]
    },
    {
      "cell_type": "code",
      "source": [
        "Z = 9\n",
        "\n",
        "print(Z**5)"
      ],
      "metadata": {
        "colab": {
          "base_uri": "https://localhost:8080/"
        },
        "id": "vKzJjNbtSWU_",
        "outputId": "0d7e32f1-1a2a-41f2-a5b2-46d000f4d7e9"
      },
      "execution_count": 28,
      "outputs": [
        {
          "output_type": "stream",
          "name": "stdout",
          "text": [
            "59049\n"
          ]
        }
      ]
    },
    {
      "cell_type": "markdown",
      "source": [
        "### Conditional\n",
        "Python mendukung kondisi logis yang biasa dari materi\n",
        "\n",
        "\n",
        "1.   Sama dengan: a == b (Equivalent)\n",
        "2.   Tidak sama dengan: a != b (Not Equivalent)\n",
        "3.   Kurang dari: a < b (Less than)\n",
        "4.   Kurang dari atau sama dengan: a <= b (less than or equal)\n",
        "5.   Lebih besar dari: a > b (More than)\n",
        "6.   Lebih besar dari atau sama dengan: a >= b (More than or equal)\n",
        "\n"
      ],
      "metadata": {
        "id": "r5oOw7YXSd7o"
      }
    },
    {
      "cell_type": "code",
      "source": [
        "print(2 == 4)"
      ],
      "metadata": {
        "colab": {
          "base_uri": "https://localhost:8080/"
        },
        "id": "bft5uhQiSbjd",
        "outputId": "b37d4429-7c29-424c-95dd-bb402abd410d"
      },
      "execution_count": 29,
      "outputs": [
        {
          "output_type": "stream",
          "name": "stdout",
          "text": [
            "False\n"
          ]
        }
      ]
    },
    {
      "cell_type": "code",
      "source": [
        "print(100==100)"
      ],
      "metadata": {
        "colab": {
          "base_uri": "https://localhost:8080/"
        },
        "id": "rtyBngezThK8",
        "outputId": "c0f68d1f-17ad-4dbe-ea7f-f8925136a1be"
      },
      "execution_count": 30,
      "outputs": [
        {
          "output_type": "stream",
          "name": "stdout",
          "text": [
            "True\n"
          ]
        }
      ]
    },
    {
      "cell_type": "code",
      "source": [
        "print('Sapi' != 'Babi')"
      ],
      "metadata": {
        "colab": {
          "base_uri": "https://localhost:8080/"
        },
        "id": "Wu-f8b56TjmS",
        "outputId": "7ad9fc6e-ce64-4a95-90e8-385b59a7dc3c"
      },
      "execution_count": 31,
      "outputs": [
        {
          "output_type": "stream",
          "name": "stdout",
          "text": [
            "True\n"
          ]
        }
      ]
    },
    {
      "cell_type": "code",
      "source": [
        "print(2<=5)"
      ],
      "metadata": {
        "colab": {
          "base_uri": "https://localhost:8080/"
        },
        "id": "EvBa5zNRTohu",
        "outputId": "131ae133-cd77-4b76-b85f-cdebc0d79232"
      },
      "execution_count": 32,
      "outputs": [
        {
          "output_type": "stream",
          "name": "stdout",
          "text": [
            "True\n"
          ]
        }
      ]
    },
    {
      "cell_type": "code",
      "source": [
        "print(1000<500)"
      ],
      "metadata": {
        "colab": {
          "base_uri": "https://localhost:8080/"
        },
        "id": "KR9_tdp2T3JG",
        "outputId": "981cb031-ef1d-4686-e944-3f2a3927fae2"
      },
      "execution_count": 33,
      "outputs": [
        {
          "output_type": "stream",
          "name": "stdout",
          "text": [
            "False\n"
          ]
        }
      ]
    },
    {
      "cell_type": "code",
      "source": [
        "print(400>=400)"
      ],
      "metadata": {
        "colab": {
          "base_uri": "https://localhost:8080/"
        },
        "id": "bnHc0N7iT9ia",
        "outputId": "ca43584b-230c-413a-8d79-ed79707a3c8a"
      },
      "execution_count": 34,
      "outputs": [
        {
          "output_type": "stream",
          "name": "stdout",
          "text": [
            "True\n"
          ]
        }
      ]
    },
    {
      "cell_type": "code",
      "source": [
        "# AND ->> & ; OR ->> |\n",
        "\n",
        "print(True & True)\n",
        "print(True & False)\n",
        "print(False & True)\n",
        "print(False & False)\n",
        "\n",
        "print((1006 != 1007) & (10 < 20))"
      ],
      "metadata": {
        "colab": {
          "base_uri": "https://localhost:8080/"
        },
        "id": "fEcA5lTJUN-p",
        "outputId": "2a89ca4c-99ca-41c5-db27-4f702bc50d12"
      },
      "execution_count": 36,
      "outputs": [
        {
          "output_type": "stream",
          "name": "stdout",
          "text": [
            "True\n",
            "False\n",
            "False\n",
            "False\n",
            "True\n"
          ]
        }
      ]
    },
    {
      "cell_type": "markdown",
      "source": [],
      "metadata": {
        "id": "2WxYVlz7UDg9"
      }
    },
    {
      "cell_type": "code",
      "source": [
        "print(True | True)\n",
        "print(True | False)\n",
        "print(False | True)\n",
        "print(False | False)"
      ],
      "metadata": {
        "colab": {
          "base_uri": "https://localhost:8080/"
        },
        "id": "xAgyDcaGUBH_",
        "outputId": "beca7e8a-a224-44d7-a6a9-e09ddd1071e0"
      },
      "execution_count": 37,
      "outputs": [
        {
          "output_type": "stream",
          "name": "stdout",
          "text": [
            "True\n",
            "True\n",
            "True\n",
            "False\n"
          ]
        }
      ]
    },
    {
      "cell_type": "code",
      "source": [
        "print((1006 != 1007) | (10 < 20))"
      ],
      "metadata": {
        "colab": {
          "base_uri": "https://localhost:8080/"
        },
        "id": "sonkzCqtVLuo",
        "outputId": "e55f8628-28a9-48a1-f2fc-3fe7c83ae087"
      },
      "execution_count": 38,
      "outputs": [
        {
          "output_type": "stream",
          "name": "stdout",
          "text": [
            "True\n"
          ]
        }
      ]
    },
    {
      "cell_type": "markdown",
      "source": [
        "### Condition - If * Else"
      ],
      "metadata": {
        "id": "fHdl2zVuVouP"
      }
    },
    {
      "cell_type": "code",
      "source": [
        "a = 5\n",
        "b = 100\n",
        "if b > a:\n",
        "  print(\"b lebih besar dari a\")"
      ],
      "metadata": {
        "colab": {
          "base_uri": "https://localhost:8080/"
        },
        "id": "WRaAGzHNVZsH",
        "outputId": "335cf628-8384-4562-ebe3-7c7da95d2ee9"
      },
      "execution_count": 39,
      "outputs": [
        {
          "output_type": "stream",
          "name": "stdout",
          "text": [
            "b lebih besar dari a\n"
          ]
        }
      ]
    },
    {
      "cell_type": "code",
      "source": [
        "a = 90\n",
        "b = 50\n",
        "if b > a:\n",
        "  print(\"b lebih besar dari a\")\n",
        "elif a == b:\n",
        "  print(\"a sama dengan b\")\n",
        "else:\n",
        "  print(\"a lebih besar dari b\")"
      ],
      "metadata": {
        "colab": {
          "base_uri": "https://localhost:8080/"
        },
        "id": "0kfhTfI6V3PN",
        "outputId": "178e1b41-0a94-4c73-fb76-ea2fcae02496"
      },
      "execution_count": 42,
      "outputs": [
        {
          "output_type": "stream",
          "name": "stdout",
          "text": [
            "a lebih besar dari b\n"
          ]
        }
      ]
    },
    {
      "cell_type": "code",
      "source": [
        "a = 100\n",
        "if a == 0:\n",
        "  print(\"Bilangan nol\")\n",
        "elif a % 2 == 0:\n",
        "  print(\"Bilangan genap\")\n",
        "elif a % 2 == 1:\n",
        "  print(\"Bilangan ganjil\")\n",
        "else:\n",
        "  print(\"Bukan bilangan bulat\")"
      ],
      "metadata": {
        "colab": {
          "base_uri": "https://localhost:8080/"
        },
        "id": "nV7YgwbfWsR-",
        "outputId": "a7d4e37e-da35-43e9-af3a-4bf6c60f5309"
      },
      "execution_count": 44,
      "outputs": [
        {
          "output_type": "stream",
          "name": "stdout",
          "text": [
            "Bilangan genap\n"
          ]
        }
      ]
    },
    {
      "cell_type": "markdown",
      "source": [
        "### ***Quiz 2 Time From Startup Campus***"
      ],
      "metadata": {
        "id": "trJvA5lCYL5d"
      }
    },
    {
      "cell_type": "code",
      "source": [
        "n = 2000\n",
        "\n",
        "if n % 2 == 0 & n % 4 == 0:\n",
        "  print(\"Yey\")\n",
        "elif n / 2 == 1000:\n",
        "  print(\"Horee\")\n",
        "else:\n",
        "  print(\"Mager\")"
      ],
      "metadata": {
        "colab": {
          "base_uri": "https://localhost:8080/"
        },
        "id": "6GzSiDAAXqV6",
        "outputId": "2c8ffeb8-5080-4db3-805d-0dab85b802dd"
      },
      "execution_count": 46,
      "outputs": [
        {
          "output_type": "stream",
          "name": "stdout",
          "text": [
            "Yey\n"
          ]
        }
      ]
    },
    {
      "cell_type": "markdown",
      "source": [
        "## **Initial and Loop-For**\n",
        "\n",
        "For loop adalah salah satu konsep paling fundamental yang digunakan dalam Python untuk mengendalikan aliran program.\n",
        "Prinsip dasarnya sederhana; for-loop akan berjalan atau berulang kali melakukan blok kode tertentu berdasarkan jumlah elemen dalam kumpulan data atau koleksi data."
      ],
      "metadata": {
        "id": "VIbDthp0ZI0I"
      }
    },
    {
      "cell_type": "code",
      "source": [
        "#Python program to illustrate\n",
        "#Iterating over a list\n",
        "l = [\"geek\", \"for\", \"geeks\"]\n",
        "for i in l:\n",
        "  print(i)"
      ],
      "metadata": {
        "colab": {
          "base_uri": "https://localhost:8080/"
        },
        "id": "A5luLw5vYtl7",
        "outputId": "d8b64b54-87c5-4215-c6e4-37bc6c9cc2cc"
      },
      "execution_count": 47,
      "outputs": [
        {
          "output_type": "stream",
          "name": "stdout",
          "text": [
            "geek\n",
            "for\n",
            "geeks\n"
          ]
        }
      ]
    },
    {
      "cell_type": "code",
      "source": [
        "W = [1,2,3,4,5]\n",
        "total_init = 0\n",
        "\n",
        "for x in W:\n",
        "  total_init = total_init + x\n",
        "\n",
        "print(total_init)"
      ],
      "metadata": {
        "colab": {
          "base_uri": "https://localhost:8080/"
        },
        "id": "piM_B9GXaLTP",
        "outputId": "fcc9dd0c-7915-481a-b83d-1e1da8c8b587"
      },
      "execution_count": 55,
      "outputs": [
        {
          "output_type": "stream",
          "name": "stdout",
          "text": [
            "15\n"
          ]
        }
      ]
    },
    {
      "cell_type": "code",
      "source": [
        "W = [1,2,3,4,5]\n",
        "total_init = 0\n",
        "\n",
        "for x in W:\n",
        "  total_init += x\n",
        "print(total_init)"
      ],
      "metadata": {
        "colab": {
          "base_uri": "https://localhost:8080/"
        },
        "id": "M_pIY0KEasy-",
        "outputId": "e6d185b2-7fe4-46be-ff23-7f9bdff3f5ee"
      },
      "execution_count": 54,
      "outputs": [
        {
          "output_type": "stream",
          "name": "stdout",
          "text": [
            "15\n"
          ]
        }
      ]
    },
    {
      "cell_type": "code",
      "source": [
        "for i in range(1, 10, 2):\n",
        "  print(i)"
      ],
      "metadata": {
        "colab": {
          "base_uri": "https://localhost:8080/"
        },
        "id": "tNMP2o75cKwL",
        "outputId": "de89bced-6bd3-49a3-d8c0-4a1f02ea5afe"
      },
      "execution_count": 56,
      "outputs": [
        {
          "output_type": "stream",
          "name": "stdout",
          "text": [
            "1\n",
            "3\n",
            "5\n",
            "7\n",
            "9\n"
          ]
        }
      ]
    },
    {
      "cell_type": "markdown",
      "source": [
        "### **Initial and Loop While**"
      ],
      "metadata": {
        "id": "1g3-SPiycZpG"
      }
    },
    {
      "cell_type": "code",
      "source": [
        "# Python program to illustrate\n",
        "# while loop\n",
        "\n",
        "count = 0\n",
        "while (count < 3):\n",
        "  count = count + 1\n",
        "  print(\"Hello Geek\")"
      ],
      "metadata": {
        "colab": {
          "base_uri": "https://localhost:8080/"
        },
        "id": "MCN_w5cycP9S",
        "outputId": "0f3f5c04-8a86-471b-f60f-be58a5eb7707"
      },
      "execution_count": 57,
      "outputs": [
        {
          "output_type": "stream",
          "name": "stdout",
          "text": [
            "Hello Geek\n",
            "Hello Geek\n",
            "Hello Geek\n"
          ]
        }
      ]
    },
    {
      "cell_type": "markdown",
      "source": [
        "### ***Quiz 3 Time From Startup Campus***"
      ],
      "metadata": {
        "id": "8YERDly2dRs5"
      }
    },
    {
      "cell_type": "code",
      "source": [
        "num_1 = 1\n",
        "num_2 = 1\n",
        "\n",
        "for i in range(10):\n",
        "  num = num_2 + num_1\n",
        "  num_2, num_1 = num, num_2\n",
        "\n",
        "print(num)"
      ],
      "metadata": {
        "colab": {
          "base_uri": "https://localhost:8080/"
        },
        "id": "RazPQQ6Xc3Jo",
        "outputId": "3ab70a35-106a-44bc-84c2-a4ebab3ae826"
      },
      "execution_count": 58,
      "outputs": [
        {
          "output_type": "stream",
          "name": "stdout",
          "text": [
            "144\n"
          ]
        }
      ]
    }
  ]
}